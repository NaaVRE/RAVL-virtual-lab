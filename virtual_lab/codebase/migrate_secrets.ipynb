{
 "cells": [
  {
   "cell_type": "code",
   "execution_count": 3,
   "id": "2b1d3091-5854-463e-83d3-f32a5dec4b34",
   "metadata": {},
   "outputs": [
    {
     "name": "stdout",
     "output_type": "stream",
     "text": [
      "Collecting pyyaml\n",
      "  Downloading PyYAML-6.0.2-cp313-cp313-manylinux_2_17_x86_64.manylinux2014_x86_64.whl.metadata (2.1 kB)\n",
      "Downloading PyYAML-6.0.2-cp313-cp313-manylinux_2_17_x86_64.manylinux2014_x86_64.whl (759 kB)\n",
      "\u001b[2K   \u001b[90m━━━━━━━━━━━━━━━━━━━━━━━━━━━━━━━━━━━━━━━━\u001b[0m \u001b[32m759.5/759.5 kB\u001b[0m \u001b[31m47.2 kB/s\u001b[0m eta \u001b[36m0:00:00\u001b[0ma \u001b[36m0:00:01\u001b[0m\n",
      "\u001b[?25hInstalling collected packages: pyyaml\n",
      "Successfully installed pyyaml-6.0.2\n"
     ]
    }
   ],
   "source": [
    "!pip install pyyaml"
   ]
  },
  {
   "cell_type": "code",
   "execution_count": 4,
   "id": "21899f5a-651b-4622-9c3a-5f9870f95131",
   "metadata": {},
   "outputs": [
    {
     "name": "stdout",
     "output_type": "stream",
     "text": [
      "Error: Source file 'param_secret_file_path' not found.\n"
     ]
    }
   ],
   "source": [
    "import yaml\n",
    "import os\n",
    "\n",
    "def move_yaml_contents(source_path, destination_path):\n",
    "    \"\"\"\n",
    "    Moves the contents of a YAML file to a new file with a specific format.\n",
    "\n",
    "    Args:\n",
    "        source_path: The path to the source YAML file.\n",
    "        destination_path: The path to the destination file.\n",
    "    \"\"\"\n",
    "\n",
    "    try:\n",
    "        with open(source_path, 'r') as source_file:\n",
    "            data = yaml.safe_load(source_file)  # Use safe_load for security\n",
    "\n",
    "        with open(destination_path, 'w') as destination_file:\n",
    "            for key, value in data.items():\n",
    "                destination_file.write(f\"{key}='{value}'\\n\")  # Format as key='value'\n",
    "\n",
    "        print(f\"Contents of '{source_path}' moved to '{destination_path}' successfully.\")\n",
    "\n",
    "    except FileNotFoundError:\n",
    "        print(f\"Error: Source file '{source_path}' not found.\")\n",
    "    except yaml.YAMLError as e:\n",
    "        print(f\"Error parsing YAML in '{source_path}': {e}\")\n",
    "    except Exception as e:\n",
    "        print(f\"An unexpected error occurred: {e}\")\n",
    "\n",
    "param_secret_file_path = \"/home/jovyan/secrets.yaml\"\n",
    "source_yaml_file = param_secret_file_path\n",
    "destination_file = \".env\"\n",
    "\n",
    "move_yaml_contents(source_yaml_file, destination_file)"
   ]
  },
  {
   "cell_type": "code",
   "execution_count": null,
   "id": "35aee0ee-ca72-42a1-8bf3-72d72af8f268",
   "metadata": {},
   "outputs": [],
   "source": []
  }
 ],
 "metadata": {
  "kernelspec": {
   "display_name": "Python [conda env:vol2bird]",
   "language": "python",
   "name": "conda-env-vol2bird-py"
  },
  "language_info": {
   "codemirror_mode": {
    "name": "ipython",
    "version": 3
   },
   "file_extension": ".py",
   "mimetype": "text/x-python",
   "name": "python",
   "nbconvert_exporter": "python",
   "pygments_lexer": "ipython3",
   "version": "3.13.1"
  }
 },
 "nbformat": 4,
 "nbformat_minor": 5
}
