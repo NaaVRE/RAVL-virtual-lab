{
 "cells": [
  {
   "cell_type": "code",
   "execution_count": null,
   "metadata": {
    "vscode": {
     "languageId": "plaintext"
    }
   },
   "outputs": [],
   "source": [
    "# S3 PVOL Indexer"
   ]
  },
  {
   "cell_type": "code",
   "execution_count": null,
   "metadata": {
    "vscode": {
     "languageId": "r"
    }
   },
   "outputs": [],
   "source": [
    "# Visualize PVOL\n",
    "# ---\n",
    "# NaaVRE:\n",
    "#  cell:\n",
    "#   outputs:\n",
    "#    - ppi_image_paths: List\n",
    "# ...\n",
    "\n",
    "# parameters:\n",
    "#    param_param : str : VRADH, DBZH, .. : to determine which parameter to visualize\n",
    "#    param_elev : float : 0,1,2... : to determine which sweep from PVOL to use\n",
    "\n",
    "# Code analyzer fix block. Assign empty strings to variables that should not be picked up by the analyzer.\n",
    "pvol_path = \"\"\n",
    "im_fname = \"\"\n",
    "filename_noext = \"\"\n",
    "filename_noext_parts = \"\"\n",
    "filename = \"\"\n",
    "local_image_path = \"\"\n",
    "\n",
    "# Libraries\n",
    "library('bioRad')\n",
    "library('tools')\n",
    "# Functions\n",
    "im_fname_from_path <- function(path,elev,param,imtype = 'ppi',im_ext=\"png\"){\n",
    "  filename <- basename(path)\n",
    "  filename_noext <- tools::file_path_sans_ext(filename)\n",
    "  filename_noext_parts <- unlist(strsplit(filename_noext,split=\"_\"))\n",
    "  im_fname<-paste0(\n",
    "    c(filename_noext_parts[[1]],imtype,elev,param,filename_noext_parts[[3]],\n",
    "      paste0(c(filename_noext_parts[[4]],im_ext),collapse=\".\",sep=\"\"))\n",
    "    ,collapse=\"_\",sep=\"\")\n",
    "  return(im_fname)\n",
    "}\n",
    "prefix_from_pvol <- function(pvol){\n",
    "    date_prefix <- strftime(pvol$datetime,format=\"%Y/%m/%d\")\n",
    "    corad <- pvol$radar\n",
    "    co <- substring(corad,1,2)\n",
    "    rad <- substring(corad,3,5)\n",
    "    corad_prefix <- paste0(c(co,rad),collapse=\"/\")\n",
    "    corad_prefix <- toupper(corad_prefix)\n",
    "    prefix <- paste0(c(corad_prefix,date_prefix),collapse=\"/\")\n",
    "    \n",
    "}\n",
    "\n",
    "dir.create(file.path(conf_local_visualization_output), showWarnings = FALSE)\n",
    "idx=1\n",
    "ppi_image_paths <- list()\n",
    "for (pvol_path in local_pvol_paths) {\n",
    "    my_pvol <- bioRad:::read_pvolfile(pvol_path)\n",
    "    my_scan <- bioRad:::get_scan(x=my_pvol,\n",
    "                             elev=param_elevation)\n",
    "    my_ppi <- bioRad:::project_as_ppi(x=my_scan)\n",
    "    image_filename <- im_fname_from_path(path=pvol_path,\n",
    "                                         elev=param_elevation,\n",
    "                                         param=param_param\n",
    "                                         )\n",
    "    local_prefix <- prefix_from_pvol(my_pvol)\n",
    "    local_image_path <- paste(conf_local_visualization_output,local_prefix,image_filename,collapse=\"\",sep=\"/\")\n",
    "    png(local_image_path)\n",
    "    plot(x=my_ppi,\n",
    "         param=param_param)\n",
    "    dev.off()\n",
    "    append(ppi_image_paths,local_image_path)\n",
    "}"
   ]
  },
  {
   "cell_type": "code",
   "execution_count": null,
   "metadata": {
    "vscode": {
     "languageId": "r"
    }
   },
   "outputs": [],
   "source": [
    "# Visualze VP\n",
    "\n",
    "# Libraries\n",
    "library('bioRad')\n",
    "\n",
    "# Code analyzer fix block. Assign empty strings to variables that should not be picked up by the analyzer.\n",
    "\n",
    "\n",
    "# Functions\n",
    "im_fname_from_vpts <- function(regvpts){\n",
    "  date_range = regvpts$daterange\n",
    "  radar = regvpts$radar\n",
    "  imtype = \"regvpts\"\n",
    "  dr1 <- as.character(date_range[[1]])\n",
    "  dr2 <- as.character(date_range[[2]])\n",
    "  dr2 <- strsplit(dr2,split=\" \")\n",
    "  dr2 <- paste0(dr2[[1]],collapse=\"T\")\n",
    "  dr_str <- paste0(c(dr1,dr2),collapse=\"_\")\n",
    "  fname_noext <- paste0(c(radar,imtype,dr_str),collapse=\"_\")\n",
    "  im_fname <- paste0(fname_noext,\".png\")\n",
    "  return (im_fname)\n",
    "\n",
    "#  check if we do this on YYYY/MM instead of day, as vpts can cover more than 1 day.\n",
    "prefix_from_vpts <- function(vpts){\n",
    "    date_prefix <- strftime(vp$datetime,format=\"%Y/%m/%d\") \n",
    "    corad <- vp$radar\n",
    "    co <- substring(corad,1,2)\n",
    "    rad <- substring(corad,3,5)\n",
    "    corad_prefix <- paste0(c(co,rad),collapse=\"/\")\n",
    "    corad_prefix <- toupper(corad_prefix)\n",
    "    prefix <- paste0(c(corad_prefix,date_prefix),collapse=\"/\")\n",
    "    return (prefix)\n",
    "}\n",
    "\n",
    "    \n",
    "# Load the VP files\n",
    "vpts <- bioRad:::read_vpfiles(local_vp_paths)\n",
    "reg_vpts <- bioRad:::regularize_vpts(vpts)\n",
    "# determine local image path\n",
    "image_filename = im_fname_from_vpts(reg_vpts)\n",
    "local_prefix <- prefix_from_vpts(vpts)\n",
    "local_image_path <- paste(conf_local_visualization_output,local_prefix,image_filename,collapse=\"\",sep=\"/\")"
   ]
  },
  {
   "cell_type": "code",
   "execution_count": null,
   "metadata": {},
   "outputs": [],
   "source": [
    "# Block to consume variables to let the code analyzer show up output\n",
    "print(ppi_image_paths)"
   ]
  }
 ],
 "metadata": {
  "kernelspec": {
   "display_name": "R [conda env:vol2bird]",
   "language": "R",
   "name": "conda-env-vol2bird-r"
  },
  "language_info": {
   "codemirror_mode": "r",
   "file_extension": ".r",
   "mimetype": "text/x-r-source",
   "name": "R",
   "pygments_lexer": "r",
   "version": "4.4.2"
  }
 },
 "nbformat": 4,
 "nbformat_minor": 4
}
