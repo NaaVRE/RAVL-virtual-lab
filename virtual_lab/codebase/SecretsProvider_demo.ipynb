{
 "cells": [
  {
   "cell_type": "code",
   "execution_count": null,
   "id": "869314dd-e6db-4e41-9141-b263fe4d6ca4",
   "metadata": {},
   "outputs": [],
   "source": [
    "!pip install SecretsProvider==2.0.0"
   ]
  },
  {
   "cell_type": "code",
   "execution_count": 1,
   "id": "79a78546-907b-4418-b8b8-b54eb73a6a0a",
   "metadata": {},
   "outputs": [
    {
     "name": "stdout",
     "output_type": "stream",
     "text": [
      "Help on class SecretsProvider in module SecretsProvider.main:\n",
      "\n",
      "class SecretsProvider(builtins.object)\n",
      " |  SecretsProvider(\n",
      " |      input_func=<bound method Kernel.raw_input of <ipykernel.ipkernel.IPythonKernel object at 0x7f81fbdca660>>\n",
      " |  )\n",
      " |\n",
      " |  Methods defined here:\n",
      " |\n",
      " |  __init__(\n",
      " |      self,\n",
      " |      input_func=<bound method Kernel.raw_input of <ipykernel.ipkernel.IPythonKernel object at 0x7f81fbdca660>>\n",
      " |  )\n",
      " |      Saves and retrieves secrets\n",
      " |      input_func controls how input from the user is asked when creating a new secret. By default, the user is asked for input.\n",
      " |\n",
      " |  get_secret(self, secret_name: str) -> str\n",
      " |      Retrieves secret\n",
      " |      Tries to retrieve a secret.\n",
      " |      If this secret does not exist, it prompts the user to enter a secret and stores that.\n",
      " |\n",
      " |  print_secrets(self) -> None\n",
      " |      Prints secrets\n",
      " |\n",
      " |  remove_secret(self, secret_name: str) -> None\n",
      " |      Remove a secret\n",
      " |\n",
      " |  set_secret(self, secret_name: str)\n",
      " |      Saves a secret.\n",
      " |      If there is already a secret with the name given. Entering a new value will overwrite the existing secret.\n",
      " |\n",
      " |  ----------------------------------------------------------------------\n",
      " |  Data descriptors defined here:\n",
      " |\n",
      " |  __dict__\n",
      " |      dictionary for instance variables\n",
      " |\n",
      " |  __weakref__\n",
      " |      list of weak references to the object\n",
      " |\n",
      " |  ----------------------------------------------------------------------\n",
      " |  Data and other attributes defined here:\n",
      " |\n",
      " |  env_path = '.env'\n",
      "\n"
     ]
    }
   ],
   "source": [
    "#Show the documentation of SecretsProvider\n",
    "from SecretsProvider import SecretsProvider\n",
    "help(SecretsProvider)"
   ]
  },
  {
   "cell_type": "code",
   "execution_count": null,
   "id": "e3d87d35-ba62-4d3e-872e-1b62f2c551c8",
   "metadata": {},
   "outputs": [],
   "source": [
    "#Get an existing secret (the secret should be found after using migrate_secrets.ipynb\n",
    "param_KMNI_key_name = \"KNMI_OPEN_DATA_API_KEY\"\n",
    "secret_KNMI_API_key: str = SecretsProvider().get_secret(param_KMNI_key_name)"
   ]
  },
  {
   "cell_type": "code",
   "execution_count": null,
   "id": "c7309804-de0a-46ba-8ee1-39fdfd982c22",
   "metadata": {},
   "outputs": [],
   "source": [
    "#Get a non existing secret. The user will be prompted to enter a secret.\n",
    "secret_new_secret: str = SecretsProvider().get_secret(\"new_secret\")"
   ]
  }
 ],
 "metadata": {
  "kernelspec": {
   "display_name": "Python [conda env:vol2bird]",
   "language": "python",
   "name": "conda-env-vol2bird-py"
  },
  "language_info": {
   "codemirror_mode": {
    "name": "ipython",
    "version": 3
   },
   "file_extension": ".py",
   "mimetype": "text/x-python",
   "name": "python",
   "nbconvert_exporter": "python",
   "pygments_lexer": "ipython3",
   "version": "3.13.1"
  }
 },
 "nbformat": 4,
 "nbformat_minor": 5
}
