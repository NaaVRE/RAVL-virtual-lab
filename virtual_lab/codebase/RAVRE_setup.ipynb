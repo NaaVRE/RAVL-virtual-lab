{
 "cells": [
  {
   "cell_type": "code",
   "execution_count": null,
   "id": "434c17c5-8bb0-4e09-b7c5-b586952640ac",
   "metadata": {},
   "outputs": [],
   "source": [
    "# DO NOT CONTAINERISE - v60\n",
    "# Set initial resource in minio, the conf in common\n",
    "debug = False\n",
    "from minio import Minio, S3Error\n",
    "import os\n",
    "import pathlib\n",
    "\n",
    "minioClient = Minio(\n",
    "    endpoint=param_minio_endpoint,\n",
    "    access_key=param_minio_access_key,\n",
    "    secret_key=param_minio_secret_key,\n",
    "    secure=True,\n",
    ")\n",
    "# Stat object to see if it is there. We could also just try a try except on fget\n",
    "# However, canonically this seems better to stat\n",
    "# Cast to str as stat object doesnt like posix\n",
    "try:\n",
    "    radar_db_stat = minioClient.stat_object(\n",
    "        bucket_name=pathlib.Path(conf_minio_public_bucket_name).as_posix(),\n",
    "        object_name=pathlib.Path(\n",
    "            conf_minio_public_conf_radar_db_object_name\n",
    "        ).as_posix(),\n",
    "    )\n",
    "    print(\n",
    "        f\"Reference file found [{pathlib.Path(conf_minio_public_bucket_name.as_posix())}]/{pathlib.Path(conf_minio_public_conf_radar_db_object_name).as_posix()}\"\n",
    "    )\n",
    "    print(radar_db_stat)\n",
    "\n",
    "except S3Error as e:\n",
    "    print(\n",
    "        f\"Failed to find reference file [{pathlib.Path(conf_minio_public_bucket_name).as_posix()}]/{pathlib.Path(conf_minio_public_conf_radar_db_object_name).as_posix()}\"\n",
    "    )\n",
    "    if debug:\n",
    "        print(f\"{e=}\")\n",
    "\n",
    "    file_stat = os.stat(\"/home/jovyan/data/conf/OPERA_RADARS_DB.json\")\n",
    "    with open(\n",
    "        \"/home/jovyan/data/conf/OPERA_RADARS_DB.json\", mode=\"rb\"\n",
    "    ) as file_data:\n",
    "        put_result = minioClient.put_object(\n",
    "            bucket_name=pathlib.Path(conf_minio_public_bucket_name).as_posix(),\n",
    "            object_name=pathlib.Path(\n",
    "                conf_minio_public_conf_radar_db_object_name\n",
    "            ).as_posix(),\n",
    "            data=file_data,\n",
    "            length=file_stat.st_size,\n",
    "        )\n",
    "    print(f\"{put_result=}\")\n",
    "    # check put result if we indeed uploaded succesfully\n",
    "    # if we dont try except we will lazily evaluate the result, as fail likely yields hard crash\n",
    "    print(\"Succesfully uploaded reference file\")"
   ]
  }
 ],
 "metadata": {
  "kernelspec": {
   "display_name": "Python [conda env:vol2bird]",
   "language": "python",
   "name": "conda-env-vol2bird-py"
  },
  "language_info": {
   "codemirror_mode": {
    "name": "ipython",
    "version": 3
   },
   "file_extension": ".py",
   "mimetype": "text/x-python",
   "name": "python",
   "nbconvert_exporter": "python",
   "pygments_lexer": "ipython3",
   "version": "3.12.5"
  }
 },
 "nbformat": 4,
 "nbformat_minor": 5
}
