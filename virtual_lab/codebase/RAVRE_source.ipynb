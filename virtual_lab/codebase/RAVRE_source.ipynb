{
 "cells": [
  {
   "cell_type": "code",
   "execution_count": null,
   "id": "91b20dcd-bb6e-4e81-84b3-5a418608df25",
   "metadata": {},
   "outputs": [],
   "source": [
    "# initializer\n",
    "import pathlib\n",
    "\n",
    "# Make directories on shared (local) storage\n",
    "for local_dir in [\n",
    "    conf_local_root,\n",
    "    conf_local_knmi,\n",
    "    conf_local_odim,\n",
    "    conf_local_vp,\n",
    "    conf_local_conf,\n",
    "]:\n",
    "    local_dir = pathlib.Path(local_dir)\n",
    "    if not local_dir.exists():\n",
    "        local_dir.mkdir(parents=True, exist_ok=True)\n",
    "# Reference files\n",
    "if not pathlib.Path(conf_local_radar_db).exists():\n",
    "    from minio import Minio, S3Error\n",
    "\n",
    "    minioClient = Minio(\n",
    "        endpoint=param_minio_endpoint,\n",
    "        access_key=param_minio_access_key,\n",
    "        secret_key=param_minio_secret_key,\n",
    "        secure=True,\n",
    "    )\n",
    "    print(f\"{conf_local_radar_db} not found, downloading\")\n",
    "    minioClient.fget_object(\n",
    "        bucket_name=conf_minio_public_bucket_name,\n",
    "        object_name=conf_minio_public_conf_radar_db_object_name,\n",
    "        file_path=conf_local_radar_db,\n",
    "    )\n",
    "\n",
    "# Now produce a variable which acts as a marker for the workflow manager\n",
    "# We can then drag a line from the configuration / initializer\n",
    "# and time the start of the rest of the workflow\n",
    "# If you decide to make different sets of configurations, you can store them\n",
    "# and decide per workflow which config to attach\n",
    "init_complete = \"Yes\"  # Cant sent bool\n",
    "print(\"Finished initialization\")"
   ]
  }
 ],
 "metadata": {
  "kernelspec": {
   "display_name": "Python [conda env:vol2bird]",
   "language": "python",
   "name": "conda-env-vol2bird-py"
  },
  "language_info": {
   "codemirror_mode": {
    "name": "ipython",
    "version": 3
   },
   "file_extension": ".py",
   "mimetype": "text/x-python",
   "name": "python",
   "nbconvert_exporter": "python",
   "pygments_lexer": "ipython3",
   "version": "3.12.5"
  }
 },
 "nbformat": 4,
 "nbformat_minor": 5
}
