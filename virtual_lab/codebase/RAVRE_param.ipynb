{
 "cells": [
  {
   "cell_type": "code",
   "execution_count": null,
   "id": "5479b5ad-466c-4b93-9136-43df6e2b8b95",
   "metadata": {},
   "outputs": [],
   "source": [
    "# DO NOT CONTAINERISE\n",
    "# parametrization - v95\n",
    "# Run specific - fill in text to preset, keep empty to prompt\n",
    "param_radar = \"herwijnen\"  # denhelder,herwijnen\n",
    "param_start_date = (\n",
    "    \"2019-12-31T23:00+00:00\"  # %Y%m%dT%H:%M+TZ; 2019-12-31T23:00+00:00\n",
    ")\n",
    "param_end_date = (\n",
    "    \"2020-01-01T01:00+00:00\"  # %Y%m%dT%H:%M+TZ; 2020-01-01T01:00+00:00\n",
    ")\n",
    "param_concurrency = 5\n",
    "param_interval = 60\n",
    "# This is to control uploads / cleaning\n",
    "# Move results to S3?\n",
    "param_upload_results = \"True\"\n",
    "# Remove input after processing KNMI format to ODIM format\n",
    "param_clean_knmi_input = \"True\"\n",
    "# Should we remove the final Polar Volumes after producing a VP and or RBC\n",
    "param_clean_pvol_output = \"True\"\n",
    "#\n",
    "param_clean_vp_output = \"True\"\n",
    "# User specific, not neccesarily run specific\n",
    "param_minio_user_pvol_output_prefix = \"\"  # \"<username>/pvol\"\n",
    "param_minio_user_vp_output_prefix = \"\"  # \"<username>/vp\"\n",
    "# Secret management\n",
    "param_secret_file_path = \"/home/jovyan/secrets.yaml\"\n",
    "param_key_knmi_api = \"secret_knmi_api_key\"\n",
    "param_key_minio_access_key = \"secret_minio_access_key\"\n",
    "param_key_minio_secret_key = \"secret_minio_secret_key\"\n",
    "param_key_minio_endpoint = \"secret_minio_endpoint\"\n",
    "\n",
    "# Param\n",
    "### User specific, not neccesarily run specific.\n",
    "#### Update: Perhaps some of these userinfo should be hardcoded parameters. I mean\n",
    "#### Not something we'd enter every single time but should be set at setup time.\n",
    "param_minio_user_pvol_output_prefix = \"bwijers1@gmail.com/pvol\"\n",
    "param_minio_user_vp_output_prefix = \"bwijers1@gmail.com/vp\"\n",
    "param_minio_user_ppi_output_prefix = \"bwijers1@gmail.com/ppi\"\n",
    "param_minio_user_regvpts_output_prefix = \"bwijers1@gmail.com/regvpts\"\n",
    "\n",
    "#### Visualization parameters\n",
    "param_dtype = \"pvol\"  # pvol | vp\n",
    "param_country = \"NL\"  # only NL\n",
    "param_radar = \"DHL\"  # DHL | HRW | DBL\n",
    "param_year = \"2023\"  # as string, YYYY\n",
    "param_month = \"12\"  # as string, mm\n",
    "param_day = \"31\"  # as string, dd\n",
    "\n",
    "# Perhaps param prefix works better\n",
    "param_prefix = \"NL/DHL/2023/12/31\"\n",
    "\n",
    "# parameters\n",
    "param_elevation = 3  #\n",
    "param_param = \"VRADH\"  # I know...VRADH, DBZH, TH, WRADH, RHOHV, DBZ...\n",
    "param_imtype = \"ppi\"  # Likely only type so far. PVOL -> PPI, VP -> VPTS. Future there would be more."
   ]
  }
 ],
 "metadata": {
  "kernelspec": {
   "display_name": "Python [conda env:vol2bird]",
   "language": "python",
   "name": "conda-env-vol2bird-py"
  },
  "language_info": {
   "codemirror_mode": {
    "name": "ipython",
    "version": 3
   },
   "file_extension": ".py",
   "mimetype": "text/x-python",
   "name": "python",
   "nbconvert_exporter": "python",
   "pygments_lexer": "ipython3",
   "version": "3.12.5"
  }
 },
 "nbformat": 4,
 "nbformat_minor": 5
}
