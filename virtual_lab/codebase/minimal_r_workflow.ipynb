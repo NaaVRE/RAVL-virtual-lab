{
 "cells": [
  {
   "cell_type": "code",
   "execution_count": 1,
   "id": "acaece44-7d30-43fe-b8d8-48aef65d3978",
   "metadata": {},
   "outputs": [],
   "source": [
    "# set var in r\n",
    "int_val <- 1"
   ]
  },
  {
   "cell_type": "code",
   "execution_count": 3,
   "id": "f814f810-cc06-4967-9a99-3e43c89eb7f4",
   "metadata": {},
   "outputs": [
    {
     "name": "stdout",
     "output_type": "stream",
     "text": [
      "[1] 1\n"
     ]
    }
   ],
   "source": [
    "# print var in r\n",
    "print(int_val)"
   ]
  },
  {
   "cell_type": "code",
   "execution_count": null,
   "id": "72e0c7d1-f155-4a6b-848f-8ae048992cbd",
   "metadata": {},
   "outputs": [],
   "source": []
  }
 ],
 "metadata": {
  "kernelspec": {
   "display_name": "R [conda env:vol2bird]",
   "language": "R",
   "name": "conda-env-vol2bird-r"
  },
  "language_info": {
   "codemirror_mode": "r",
   "file_extension": ".r",
   "mimetype": "text/x-r-source",
   "name": "R",
   "pygments_lexer": "r",
   "version": "4.4.2"
  }
 },
 "nbformat": 4,
 "nbformat_minor": 5
}
