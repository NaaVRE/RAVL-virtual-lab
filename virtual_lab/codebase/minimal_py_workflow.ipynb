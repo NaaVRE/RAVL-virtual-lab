{
 "cells": [
  {
   "cell_type": "code",
   "execution_count": null,
   "id": "6368b308-3f63-4878-9dfc-752855018222",
   "metadata": {},
   "outputs": [],
   "source": [
    "# set var in Py\n",
    "int_val = 1"
   ]
  },
  {
   "cell_type": "code",
   "execution_count": null,
   "id": "42b9e0cc-10c7-470a-8c09-9a77a2dd66c0",
   "metadata": {},
   "outputs": [],
   "source": [
    "# print var in Py\n",
    "print(int_val)"
   ]
  }
 ],
 "metadata": {
  "kernelspec": {
   "display_name": "Python [conda env:root]",
   "language": "python",
   "name": "conda-root-py"
  },
  "language_info": {
   "codemirror_mode": {
    "name": "ipython",
    "version": 3
   },
   "file_extension": ".py",
   "mimetype": "text/x-python",
   "name": "python",
   "nbconvert_exporter": "python",
   "pygments_lexer": "ipython3",
   "version": "3.9.7"
  }
 },
 "nbformat": 4,
 "nbformat_minor": 5
}
