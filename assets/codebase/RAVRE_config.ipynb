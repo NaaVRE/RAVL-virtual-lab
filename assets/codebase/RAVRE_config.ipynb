{
 "cells": [
  {
   "cell_type": "code",
   "execution_count": null,
   "id": "6f1e8c76-1e8f-4524-acd4-97c218dc1ab2",
   "metadata": {},
   "outputs": [],
   "source": [
    "# DO NOT CONTAINERISE\n",
    "# configuration - v95\n",
    "import os\n",
    "import pathlib\n",
    "\n",
    "conf_minio_user_bucket_name = \"naa-vre-user-data\" # the user bucket name\n",
    "conf_minio_public_bucket_name = \"naa-vre-public\" # the public bucket name\n",
    "conf_minio_public_root_prefix = \"vl-vol2bird\" # the prefix to use in the public bucket\n",
    "conf_minio_public_conf_prefix = \"vl-vol2bird/conf\" # Path to the public configuration file\n",
    "conf_minio_public_conf_radar_db_object_name = \"vl-vol2bird/conf/OPERA_RADARS_DB.json\"\n",
    "\n",
    "### Directories\n",
    "conf_local_root = \"/tmp/data\"\n",
    "conf_local_knmi = \"/tmp/data/knmi\"\n",
    "conf_local_odim = \"/tmp/data/odim\"\n",
    "conf_local_vp = \"/tmp/data/vp\"\n",
    "conf_local_conf = \"/tmp/data/conf\"\n",
    "conf_local_radar_db = \"/tmp/data/conf/OPERA_RADARS_DB.json\"\n",
    "\n",
    "# radar configuration for the KNMI api\n",
    "# Rewritten in a long format without page breaks. This is to prevent\n",
    "# the code analyzer to yield an error. \n",
    "# datasetName, datasetVersion, api_url, radar code (odim)\n",
    "conf_herwijnen = ['radar_volume_full_herwijnen',1.0,'https://api.dataplatform.knmi.nl/open-data/v1/datasets/radar_volume_full_herwijnen/versions/1.0/files','NL/HRW'] \n",
    "conf_denhelder = ['radar_volume_full_denhelder',2.0,'https://api.dataplatform.knmi.nl/open-data/v1/datasets/radar_volume_denhelder/versions/2.0/files','NL/DHL']\n",
    "conf_radars = {'herwijnen' : conf_herwijnen,'denhelder' : conf_denhelder}"
   ]
  }
 ],
 "metadata": {
  "kernelspec": {
   "display_name": "Python [conda env:vol2bird]",
   "language": "python",
   "name": "conda-env-vol2bird-py"
  },
  "language_info": {
   "codemirror_mode": {
    "name": "ipython",
    "version": 3
   },
   "file_extension": ".py",
   "mimetype": "text/x-python",
   "name": "python",
   "nbconvert_exporter": "python",
   "pygments_lexer": "ipython3",
   "version": "3.12.5"
  }
 },
 "nbformat": 4,
 "nbformat_minor": 5
}
