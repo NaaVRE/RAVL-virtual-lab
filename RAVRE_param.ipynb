{
 "cells": [
  {
   "cell_type": "code",
   "execution_count": null,
   "id": "5479b5ad-466c-4b93-9136-43df6e2b8b95",
   "metadata": {},
   "outputs": [],
   "source": [
    "# DO NOT CONTAINERISE \n",
    "# parametrization - v95\n",
    "# Run specific - fill in text to preset, keep empty to prompt\n",
    "param_radar = \"herwijnen\" # denhelder,herwijnen\n",
    "param_start_date = \"2019-12-31T23:00+00:00\" # %Y%m%dT%H:%M+TZ; 2019-12-31T23:00+00:00\n",
    "param_end_date = \"2020-01-01T01:00+00:00\" # %Y%m%dT%H:%M+TZ; 2020-01-01T01:00+00:00\n",
    "param_concurrency = 5\n",
    "param_interval = 60\n",
    "# This is to control uploads / cleaning\n",
    "# Move results to S3?\n",
    "param_upload_results = 'True'\n",
    "# Remove input after processing KNMI format to ODIM format\n",
    "param_clean_knmi_input = 'True' \n",
    "# Should we remove the final Polar Volumes after producing a VP and or RBC \n",
    "param_clean_pvol_output = 'True'\n",
    "# \n",
    "param_clean_vp_output = 'True'\n",
    "# User specific, not neccesarily run specific\n",
    "param_minio_user_pvol_output_prefix = #\"<username>/pvol\"\n",
    "param_minio_user_vp_output_prefix = # \"<username>/vp\"\n",
    "\n"
   ]
  }
 ],
 "metadata": {
  "kernelspec": {
   "display_name": "Python [conda env:vol2bird]",
   "language": "python",
   "name": "conda-env-vol2bird-py"
  },
  "language_info": {
   "codemirror_mode": {
    "name": "ipython",
    "version": 3
   },
   "file_extension": ".py",
   "mimetype": "text/x-python",
   "name": "python",
   "nbconvert_exporter": "python",
   "pygments_lexer": "ipython3",
   "version": "3.12.5"
  }
 },
 "nbformat": 4,
 "nbformat_minor": 5
}
